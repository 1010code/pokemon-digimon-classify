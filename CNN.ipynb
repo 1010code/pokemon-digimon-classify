{
 "cells": [
  {
   "cell_type": "markdown",
   "metadata": {
    "colab_type": "text",
    "id": "qjQnu80ijCa-"
   },
   "source": [
    "# CNN"
   ]
  },
  {
   "cell_type": "code",
   "execution_count": 1,
   "metadata": {},
   "outputs": [
    {
     "name": "stdout",
     "output_type": "stream",
     "text": [
      "4 devices detect\n"
     ]
    }
   ],
   "source": [
    "import matplotlib.pyplot as plt\n",
    "import numpy as np\n",
    "import PIL.Image\n",
    "import os\n",
    "import cv2\n",
    "import pandas as pd\n",
    "import tensorflow as tf\n",
    "physical_devices = tf.config.experimental.list_physical_devices('GPU')\n",
    "if len(physical_devices) > 0:\n",
    "    for i in range(len(physical_devices)):\n",
    "        tf.config.experimental.set_memory_growth(physical_devices[i], True)\n",
    "print(len(physical_devices), 'devices detect')"
   ]
  },
  {
   "cell_type": "code",
   "execution_count": 2,
   "metadata": {
    "colab": {
     "base_uri": "https://localhost:8080/",
     "height": 34
    },
    "colab_type": "code",
    "executionInfo": {
     "elapsed": 2232,
     "status": "ok",
     "timestamp": 1563004415355,
     "user": {
      "displayName": "kinna kinna",
      "photoUrl": "",
      "userId": "09336290170720198249"
     },
     "user_tz": -480
    },
    "id": "vjFmupouR8XP",
    "outputId": "4d1befaa-3068-428f-bda3-2111a4575f54"
   },
   "outputs": [],
   "source": [
    "# import package\n",
    "import tensorflow.keras as keras\n",
    "from tensorflow.keras.preprocessing.image import ImageDataGenerator\n",
    "from tensorflow.keras.models import Model, load_model\n",
    "from tensorflow.keras.layers import Input, Dense, Dropout, Activation, Flatten, BatchNormalization, Conv2D, MaxPooling2D\n",
    "\n",
    "Digimon_path = \"./dataset/train/Digimon/\"\n",
    "Pokemon_path = \"./dataset/train/Pokemon/\"\n",
    "test_Digimon_path = \"./dataset/test/Digimon/\"\n",
    "test_Pokemon_path = \"./dataset/test/Pokemon/\""
   ]
  },
  {
   "cell_type": "code",
   "execution_count": 3,
   "metadata": {},
   "outputs": [],
   "source": [
    "!find . -name \".DS_Store\" -delete\n",
    "import shutil\n",
    "import os\n",
    "\n",
    "nowpath = os.getcwd()\n",
    "try:   \n",
    "    shutil.rmtree(nowpath +'/dataset/train/Digimon/.ipynb_checkpoints')\n",
    "except:\n",
    "    pass\n",
    "try:   \n",
    "    shutil.rmtree(nowpath +'/dataset/train/Pokemon/.ipynb_checkpoints')\n",
    "except:\n",
    "    pass\n",
    "try:   \n",
    "    shutil.rmtree(nowpath +'/dataset/test/Digimon/.ipynb_checkpoints')\n",
    "except:\n",
    "    pass\n",
    "try:   \n",
    "    shutil.rmtree(nowpath +'/dataset/test/Pokemon/.ipynb_checkpoints')\n",
    "except:\n",
    "    pass"
   ]
  },
  {
   "cell_type": "markdown",
   "metadata": {},
   "source": [
    "## Load data"
   ]
  },
  {
   "cell_type": "code",
   "execution_count": 23,
   "metadata": {},
   "outputs": [
    {
     "name": "stdout",
     "output_type": "stream",
     "text": [
      "./dataset/train/Digimon/ 1050\n",
      "./dataset/train/Pokemon/ 799\n"
     ]
    }
   ],
   "source": [
    "from os import listdir\n",
    "import cv2\n",
    "\n",
    "img_data = []\n",
    "labels = []\n",
    "\n",
    "size = 200,200\n",
    "def iter_images(images,directory,size,label):\n",
    "     for i in range(len(images)):\n",
    "            if \"gif\" in images[i]: \n",
    "                continue\n",
    "            img = cv2.imread(directory + images[i])\n",
    "            img = cv2.resize(img,size,PIL.Image.ANTIALIAS)\n",
    "            img_data.append(img)\n",
    "            labels.append(label)\n",
    "\n",
    "iter_images(listdir(Digimon_path),Digimon_path,size,0)\n",
    "iter_images(listdir(Pokemon_path),Pokemon_path,size,1)"
   ]
  },
  {
   "cell_type": "code",
   "execution_count": 24,
   "metadata": {},
   "outputs": [
    {
     "data": {
      "text/plain": [
       "(1842, 1842)"
      ]
     },
     "execution_count": 24,
     "metadata": {},
     "output_type": "execute_result"
    }
   ],
   "source": [
    "len(img_data),len(labels)"
   ]
  },
  {
   "cell_type": "code",
   "execution_count": 11,
   "metadata": {},
   "outputs": [],
   "source": [
    "from os import listdir\n",
    "import cv2\n",
    "\n",
    "\n",
    "\n",
    "test_data = []\n",
    "test_labels = []\n",
    "\n",
    "size = 200,200\n",
    "def iter_images(images,directory,size,label):\n",
    "     for i in range(len(images)):\n",
    "            if \"gif\" in images[i]: \n",
    "                continue\n",
    "            img = cv2.imread(directory + images[i])\n",
    "            img = cv2.resize(img,size,PIL.Image.ANTIALIAS)\n",
    "            test_data.append(img)\n",
    "            test_labels.append(label)\n",
    "\n",
    "iter_images(listdir(test_Digimon_path),test_Digimon_path,size,0)\n",
    "iter_images(listdir(test_Pokemon_path),test_Pokemon_path,size,1)"
   ]
  },
  {
   "cell_type": "code",
   "execution_count": 12,
   "metadata": {},
   "outputs": [
    {
     "data": {
      "text/plain": [
       "(21, 21)"
      ]
     },
     "execution_count": 12,
     "metadata": {},
     "output_type": "execute_result"
    }
   ],
   "source": [
    "test_labels= np.array(test_labels,dtype=np.int32)\n",
    "len(test_data),len(test_labels)"
   ]
  },
  {
   "cell_type": "markdown",
   "metadata": {},
   "source": [
    "## 2 ) Data preprocessing"
   ]
  },
  {
   "cell_type": "code",
   "execution_count": 13,
   "metadata": {},
   "outputs": [
    {
     "name": "stdout",
     "output_type": "stream",
     "text": [
      "(1842, 200, 200, 3)\n",
      "(1842,)\n"
     ]
    }
   ],
   "source": [
    "train_X = np.asarray(img_data)\n",
    "train_Y = np.asarray(labels)\n",
    "\n",
    "idx = np.arange(train_X.shape[0])\n",
    "np.random.shuffle(idx)\n",
    "\n",
    "train_X = train_X[idx]\n",
    "train_Y = train_Y[idx]\n",
    "\n",
    "testData=np.asarray(test_data)\n",
    "\n",
    "print(train_X.shape)\n",
    "print(train_Y.shape)"
   ]
  },
  {
   "cell_type": "code",
   "execution_count": 14,
   "metadata": {},
   "outputs": [],
   "source": [
    "import numpy as np\n",
    "data = np.asarray(img_data)\n",
    "testData=np.asarray(test_data, dtype=np.float64)\n",
    "\n",
    "#div by 255\n",
    "data = data / 255.0\n",
    "testData=testData/255.0\n",
    "\n",
    "labels = np.asarray(labels)\n",
    "test_labels = np.asarray(test_labels)"
   ]
  },
  {
   "cell_type": "code",
   "execution_count": 15,
   "metadata": {},
   "outputs": [
    {
     "data": {
      "text/plain": [
       "0"
      ]
     },
     "execution_count": 15,
     "metadata": {},
     "output_type": "execute_result"
    },
    {
     "data": {
      "image/png": "[encoded data removed]",
      "text/plain": [
       "<Figure size 1080x576 with 1 Axes>"
      ]
     },
     "metadata": {
      "needs_background": "light"
     },
     "output_type": "display_data"
    }
   ],
   "source": [
    "classes = {0:'Digimon', 1:'Pokemon'}\n",
    "def plot_image(number):\n",
    "    fig = plt.figure(figsize = (15,8))\n",
    "    plt.imshow(data[number])\n",
    "    plt.title(classes[labels[number]])\n",
    "plot_image(0)\n",
    "labels[0]"
   ]
  },
  {
   "cell_type": "markdown",
   "metadata": {
    "colab_type": "text",
    "id": "hvxldzZ5jjpR"
   },
   "source": [
    "## 建立模型"
   ]
  },
  {
   "cell_type": "code",
   "execution_count": 16,
   "metadata": {
    "colab": {
     "base_uri": "https://localhost:8080/",
     "height": 34
    },
    "colab_type": "code",
    "executionInfo": {
     "elapsed": 3968,
     "status": "ok",
     "timestamp": 1563004417155,
     "user": {
      "displayName": "kinna kinna",
      "photoUrl": "",
      "userId": "09336290170720198249"
     },
     "user_tz": -480
    },
    "id": "GCIjH6hlSInp",
    "outputId": "977449e3-59e7-4796-f2e9-9363cb7ff8f3"
   },
   "outputs": [],
   "source": [
    "# Convert class vectors to binary class matrices.\n",
    "num_classes = 2\n",
    "img_size = 200"
   ]
  },
  {
   "cell_type": "code",
   "execution_count": 17,
   "metadata": {},
   "outputs": [],
   "source": [
    "learning_rate = 0.0001\n",
    "batch_size = 32 \n",
    "epochs = 5\n",
    "\n",
    "optimizer = keras.optimizers.Adam(lr=learning_rate)"
   ]
  },
  {
   "cell_type": "code",
   "execution_count": 18,
   "metadata": {},
   "outputs": [],
   "source": [
    "# inputs = Input(shape=(img_size, img_size, 3))\n",
    "\n",
    "# x = Conv2D(32, (3, 3), padding='same', activation='relu')(inputs)\n",
    "# x = Conv2D(32, (3, 3), padding='same', activation='relu')(x)\n",
    "# x = MaxPooling2D(pool_size=(2, 2))(x)\n",
    "# x = Dropout(0.25)(x)\n",
    "\n",
    "# x = Conv2D(64, (3, 3), padding='same', activation='relu')(x)\n",
    "# x = Conv2D(64, (3, 3), padding='same', activation='relu')(x)\n",
    "# x = MaxPooling2D(pool_size=(2, 2))(x)\n",
    "# x = Dropout(0.25)(x)\n",
    "\n",
    "# x = Flatten()(x)\n",
    "# x = Dense(512, activation='relu')(x)\n",
    "# x = Dropout(0.25)(x)\n",
    "# outputs = Dense(num_classes, activation='softmax')(x)\n",
    "\n",
    "\n",
    "# model = Model(inputs=inputs, outputs=outputs)"
   ]
  },
  {
   "cell_type": "code",
   "execution_count": 19,
   "metadata": {},
   "outputs": [],
   "source": [
    "from tensorflow.keras import Sequential\n",
    "from tensorflow.keras.layers import Input, Dense, Dropout, Activation, Flatten, BatchNormalization, Conv2D, MaxPooling2D\n",
    "\n",
    "model = Sequential()\n",
    "model.add(Conv2D(32, (3, 3), padding='same', input_shape=(img_size, img_size, 3)))\n",
    "model.add(Activation('relu'))\n",
    "model.add(Conv2D(32, (3, 3)))\n",
    "model.add(Activation('relu'))\n",
    "model.add(MaxPooling2D(pool_size=(2, 2)))\n",
    "\n",
    "model.add(Conv2D(64, (3, 3), padding='same'))\n",
    "model.add(Activation('relu'))\n",
    "model.add(Conv2D(64, (3, 3)))\n",
    "model.add(Activation('relu'))\n",
    "model.add(MaxPooling2D(pool_size=(2, 2)))\n",
    "\n",
    "model.add(Conv2D(256, (3, 3), padding='same'))\n",
    "model.add(Activation('relu'))\n",
    "model.add(Conv2D(256, (3, 3)))\n",
    "model.add(Activation('relu'))\n",
    "model.add(MaxPooling2D(pool_size=(2, 2)))\n",
    "\n",
    "model.add(Flatten())\n",
    "model.add(Dense(1024))\n",
    "model.add(Activation('relu'))\n",
    "model.add(Dense(6))\n",
    "model.add(Activation('softmax'))"
   ]
  },
  {
   "cell_type": "code",
   "execution_count": 20,
   "metadata": {},
   "outputs": [],
   "source": [
    "model.compile(loss='sparse_categorical_crossentropy',\n",
    "              optimizer=optimizer,\n",
    "              metrics=['accuracy'])"
   ]
  },
  {
   "cell_type": "markdown",
   "metadata": {},
   "source": [
    "## 訓練模型"
   ]
  },
  {
   "cell_type": "code",
   "execution_count": 21,
   "metadata": {
    "colab": {
     "base_uri": "https://localhost:8080/",
     "height": 652
    },
    "colab_type": "code",
    "executionInfo": {
     "elapsed": 100495,
     "status": "ok",
     "timestamp": 1563004635167,
     "user": {
      "displayName": "kinna kinna",
      "photoUrl": "",
      "userId": "09336290170720198249"
     },
     "user_tz": -480
    },
    "id": "dQ8rNZ9Cd7Ba",
    "outputId": "621e7105-9428-4a9f-a51c-10054f1fe579"
   },
   "outputs": [
    {
     "name": "stdout",
     "output_type": "stream",
     "text": [
      "Train on 1842 samples, validate on 21 samples\n",
      "Epoch 1/5\n",
      "1842/1842 [==============================] - 9s 5ms/sample - loss: 0.1392 - accuracy: 0.9430 - val_loss: 0.1143 - val_accuracy: 0.9524\n",
      "Epoch 2/5\n",
      "1842/1842 [==============================] - 5s 3ms/sample - loss: 0.0393 - accuracy: 0.9864 - val_loss: 0.2022 - val_accuracy: 0.9524\n",
      "Epoch 3/5\n",
      "1842/1842 [==============================] - 5s 3ms/sample - loss: 0.0443 - accuracy: 0.9859 - val_loss: 0.2073 - val_accuracy: 0.9524\n",
      "Epoch 4/5\n",
      "1842/1842 [==============================] - 5s 3ms/sample - loss: 0.0223 - accuracy: 0.9935 - val_loss: 0.2183 - val_accuracy: 0.9524\n",
      "Epoch 5/5\n",
      "1842/1842 [==============================] - 5s 3ms/sample - loss: 0.0131 - accuracy: 0.9962 - val_loss: 0.1581 - val_accuracy: 0.9524\n"
     ]
    }
   ],
   "source": [
    "history = model.fit(data, labels, epochs=epochs,validation_data=(testData, test_labels))"
   ]
  },
  {
   "cell_type": "code",
   "execution_count": 24,
   "metadata": {},
   "outputs": [
    {
     "name": "stdout",
     "output_type": "stream",
     "text": [
      "test loss, test acc: [0.7777060310492355, 0.80898875]\n"
     ]
    }
   ],
   "source": [
    "results = model.evaluate(x=testData, y=test_labels, verbose=0)\n",
    "print(\"test loss, test acc:\", results)"
   ]
  },
  {
   "cell_type": "markdown",
   "metadata": {},
   "source": [
    "### Confusion Matrix\n",
    "驗證集測試，查看混淆矩陣。混淆矩陣是機器學習中總結分類模型預測結果的情形分析表，以矩陣形式將數據集中的記錄按照真實的類別與分類模型預測的類別判斷兩個標准進行匯總。其中矩陣的行表示真實值，矩陣的列表示預測值。"
   ]
  },
  {
   "cell_type": "code",
   "execution_count": 29,
   "metadata": {},
   "outputs": [
    {
     "data": {
      "image/png": "[encoded data removed]",
      "text/plain": [
       "<Figure size 504x432 with 2 Axes>"
      ]
     },
     "metadata": {
      "needs_background": "light"
     },
     "output_type": "display_data"
    }
   ],
   "source": [
    "from sklearn.metrics import confusion_matrix\n",
    "import numpy as np\n",
    "import seaborn as sns\n",
    "\n",
    "## plot confusion matrix\n",
    "y_preds = model.predict(testData)\n",
    "y_preds = np.argmax(y_preds, axis=1)\n",
    "y_trues = test_labels\n",
    "cm = confusion_matrix(y_trues, y_preds)\n",
    "\n",
    "fig, ax = plt.subplots(figsize=(7, 6))\n",
    "\n",
    "sns.heatmap(cm, annot=True, fmt='d', cmap='Blues', cbar_kws={'shrink': .3}, linewidths=.1, ax=ax)\n",
    "\n",
    "ax.set(\n",
    "    xticklabels=list(classes.values()),\n",
    "    yticklabels=list(classes.values()),\n",
    "    title='confusion matrix',\n",
    "    ylabel='True label',\n",
    "    xlabel='Predicted label'\n",
    ")\n",
    "params = dict(rotation=45, ha='center', rotation_mode='anchor')\n",
    "plt.setp(ax.get_yticklabels(), **params)\n",
    "plt.setp(ax.get_xticklabels(), **params)\n",
    "plt.show()"
   ]
  },
  {
   "cell_type": "code",
   "execution_count": 26,
   "metadata": {},
   "outputs": [
    {
     "data": {
      "text/plain": [
       "0.9523809523809523"
      ]
     },
     "execution_count": 26,
     "metadata": {},
     "output_type": "execute_result"
    }
   ],
   "source": [
    "from sklearn.metrics import accuracy_score\n",
    "y_preds = model.predict(testData)\n",
    "y_preds = np.argmax(y_preds, axis=1)\n",
    "y_trues = test_labels\n",
    "\n",
    "accuracy_score(y_preds, y_trues)"
   ]
  },
  {
   "cell_type": "code",
   "execution_count": null,
   "metadata": {},
   "outputs": [],
   "source": []
  }
 ],
 "metadata": {
  "accelerator": "GPU",
  "colab": {
   "collapsed_sections": [],
   "name": "ex2_CNN_data_augmentation.ipynb",
   "provenance": [
    {
     "file_id": "1bd-jwbe3Aa6UrLK-LzlCQahQvNxcNOab",
     "timestamp": 1553100300184
    }
   ],
   "version": "0.3.2"
  },
  "kernelspec": {
   "display_name": "Python 3",
   "language": "python",
   "name": "python3"
  },
  "language_info": {
   "codemirror_mode": {
    "name": "ipython",
    "version": 3
   },
   "file_extension": ".py",
   "mimetype": "text/x-python",
   "name": "python",
   "nbconvert_exporter": "python",
   "pygments_lexer": "ipython3",
   "version": "3.7.3"
  }
 },
 "nbformat": 4,
 "nbformat_minor": 4
}
