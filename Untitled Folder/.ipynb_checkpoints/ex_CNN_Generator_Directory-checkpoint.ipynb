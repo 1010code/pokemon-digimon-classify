{
 "cells": [
  {
   "cell_type": "markdown",
   "metadata": {
    "colab_type": "text",
    "id": "qjQnu80ijCa-"
   },
   "source": [
    "# CNN + Generator_Directory 練習"
   ]
  },
  {
   "cell_type": "code",
   "execution_count": 1,
   "metadata": {},
   "outputs": [],
   "source": [
    "import matplotlib.pyplot as plt\n",
    "import numpy as np\n",
    "import os\n",
    "import cv2\n",
    "import pandas as pd\n",
    "# os.environ[\"CUDA_VISIBLE_DEVICES\"] = \"0\"\n",
    "import tensorflow as tf\n",
    "physical_devices = tf.config.experimental.list_physical_devices('GPU')\n",
    "if len(physical_devices) > 0:\n",
    "    for i in range(len(physical_devices)):\n",
    "        tf.config.experimental.set_memory_growth(physical_devices[i], True)"
   ]
  },
  {
   "cell_type": "code",
   "execution_count": 1,
   "metadata": {
    "colab": {
     "base_uri": "https://localhost:8080/",
     "height": 34
    },
    "colab_type": "code",
    "executionInfo": {
     "elapsed": 2232,
     "status": "ok",
     "timestamp": 1563004415355,
     "user": {
      "displayName": "kinna kinna",
      "photoUrl": "",
      "userId": "09336290170720198249"
     },
     "user_tz": -480
    },
    "id": "vjFmupouR8XP",
    "outputId": "4d1befaa-3068-428f-bda3-2111a4575f54"
   },
   "outputs": [],
   "source": [
    "# import package\n",
    "import tensorflow.keras as keras\n",
    "from tensorflow.keras.preprocessing.image import ImageDataGenerator\n",
    "from tensorflow.keras.models import Model, load_model\n",
    "from tensorflow.keras.layers import Input, Dense, Dropout, Activation, Flatten, BatchNormalization, Conv2D, MaxPooling2D"
   ]
  },
  {
   "cell_type": "markdown",
   "metadata": {
    "colab_type": "text",
    "id": "kxBu1rarjRU0"
   },
   "source": [
    "## Cifar10 資料讀入及前處理"
   ]
  },
  {
   "cell_type": "code",
   "execution_count": 2,
   "metadata": {
    "colab": {
     "base_uri": "https://localhost:8080/",
     "height": 34
    },
    "colab_type": "code",
    "executionInfo": {
     "elapsed": 3968,
     "status": "ok",
     "timestamp": 1563004417155,
     "user": {
      "displayName": "kinna kinna",
      "photoUrl": "",
      "userId": "09336290170720198249"
     },
     "user_tz": -480
    },
    "id": "GCIjH6hlSInp",
    "outputId": "977449e3-59e7-4796-f2e9-9363cb7ff8f3"
   },
   "outputs": [],
   "source": [
    "# Convert class vectors to binary class matrices.\n",
    "num_classes = 2\n",
    "img_size = 120"
   ]
  },
  {
   "cell_type": "markdown",
   "metadata": {
    "colab_type": "text",
    "id": "hvxldzZ5jjpR"
   },
   "source": [
    "## 模型定義"
   ]
  },
  {
   "cell_type": "code",
   "execution_count": 3,
   "metadata": {},
   "outputs": [],
   "source": [
    "learning_rate = 0.0001\n",
    "batch_size = 32 \n",
    "epochs = 5\n",
    "\n",
    "optimizer = keras.optimizers.Adam(lr=learning_rate)"
   ]
  },
  {
   "cell_type": "code",
   "execution_count": 4,
   "metadata": {},
   "outputs": [],
   "source": [
    "inputs = Input(shape=(img_size, img_size, 3))\n",
    "\n",
    "x = Conv2D(32, (3, 3), padding='same', activation='relu')(inputs)\n",
    "x = Conv2D(32, (3, 3), padding='same', activation='relu')(x)\n",
    "x = MaxPooling2D(pool_size=(2, 2))(x)\n",
    "x = Dropout(0.25)(x)\n",
    "\n",
    "x = Conv2D(64, (3, 3), padding='same', activation='relu')(x)\n",
    "x = Conv2D(64, (3, 3), padding='same', activation='relu')(x)\n",
    "x = MaxPooling2D(pool_size=(2, 2))(x)\n",
    "x = Dropout(0.25)(x)\n",
    "\n",
    "x = Flatten()(x)\n",
    "x = Dense(512, activation='relu')(x)\n",
    "x = Dropout(0.25)(x)\n",
    "outputs = Dense(num_classes, activation='softmax')(x)\n",
    "\n",
    "\n",
    "model = Model(inputs=inputs, outputs=outputs)"
   ]
  },
  {
   "cell_type": "code",
   "execution_count": 5,
   "metadata": {},
   "outputs": [],
   "source": [
    "model.compile(loss='categorical_crossentropy',\n",
    "              optimizer=optimizer,\n",
    "              metrics=['accuracy'])"
   ]
  },
  {
   "cell_type": "markdown",
   "metadata": {
    "colab_type": "text",
    "id": "w3ZbQfBhkKQ_"
   },
   "source": [
    "## 開始訓練模型 (Data augmentation 參數設置)"
   ]
  },
  {
   "cell_type": "code",
   "execution_count": 6,
   "metadata": {},
   "outputs": [],
   "source": [
    "train_datagen = ImageDataGenerator( \n",
    "                                    rescale=1./255,\n",
    "                                    rotation_range=10,\n",
    "                                    width_shift_range=0.05,\n",
    "                                    height_shift_range=0.05,\n",
    "                                    horizontal_flip=True,\n",
    "                                    vertical_flip=False,\n",
    "                                    fill_mode='wrap'\n",
    "                                 )\n",
    "test_datagen = ImageDataGenerator(rescale=1./255)"
   ]
  },
  {
   "cell_type": "code",
   "execution_count": 7,
   "metadata": {},
   "outputs": [],
   "source": [
    "!find . -name \".DS_Store\" -delete\n",
    "import shutil\n",
    "import os\n",
    "\n",
    "nowpath = os.getcwd()\n",
    "try:   \n",
    "    shutil.rmtree(nowpath +'/dataset/train/Digimon/.ipynb_checkpoints')\n",
    "except:\n",
    "    pass\n",
    "try:   \n",
    "    shutil.rmtree(nowpath +'/dataset/train/Pokemon/.ipynb_checkpoints')\n",
    "except:\n",
    "    pass\n",
    "try:   \n",
    "    shutil.rmtree(nowpath +'/dataset/test/Digimon/.ipynb_checkpoints')\n",
    "except:\n",
    "    pass\n",
    "try:   \n",
    "    shutil.rmtree(nowpath +'/dataset/test/Pokemon/.ipynb_checkpoints')\n",
    "except:\n",
    "    pass"
   ]
  },
  {
   "cell_type": "code",
   "execution_count": 8,
   "metadata": {},
   "outputs": [
    {
     "name": "stdout",
     "output_type": "stream",
     "text": [
      "Found 1842 images belonging to 2 classes.\n",
      "Found 21 images belonging to 2 classes.\n"
     ]
    }
   ],
   "source": [
    "train_generator = train_datagen.flow_from_directory(\n",
    "                                                    './dataset/train',\n",
    "                                                    target_size=(img_size, img_size),\n",
    "                                                    batch_size=32,\n",
    "                                                    class_mode='categorical')\n",
    "\n",
    "valid_generator = test_datagen.flow_from_directory(\n",
    "                                                   './dataset/test',\n",
    "                                                   target_size=(img_size, img_size),\n",
    "                                                   batch_size=1,\n",
    "                                                   class_mode='categorical',\n",
    "                                                   shuffle=False)"
   ]
  },
  {
   "cell_type": "code",
   "execution_count": 9,
   "metadata": {},
   "outputs": [
    {
     "data": {
      "text/plain": [
       "{'Digimon': 0, 'Pokemon': 1}"
      ]
     },
     "execution_count": 9,
     "metadata": {},
     "output_type": "execute_result"
    }
   ],
   "source": [
    "train_generator.class_indices"
   ]
  },
  {
   "cell_type": "code",
   "execution_count": 10,
   "metadata": {
    "colab": {
     "base_uri": "https://localhost:8080/",
     "height": 652
    },
    "colab_type": "code",
    "executionInfo": {
     "elapsed": 100495,
     "status": "ok",
     "timestamp": 1563004635167,
     "user": {
      "displayName": "kinna kinna",
      "photoUrl": "",
      "userId": "09336290170720198249"
     },
     "user_tz": -480
    },
    "id": "dQ8rNZ9Cd7Ba",
    "outputId": "621e7105-9428-4a9f-a51c-10054f1fe579"
   },
   "outputs": [
    {
     "name": "stdout",
     "output_type": "stream",
     "text": [
      "Train for 58 steps, validate for 21 steps\n",
      "Epoch 1/5\n",
      "58/58 [==============================] - 13s 228ms/step - loss: 0.0926 - accuracy: 0.9631 - val_loss: 0.1569 - val_accuracy: 0.9524\n",
      "Epoch 2/5\n",
      "58/58 [==============================] - 11s 184ms/step - loss: 0.0491 - accuracy: 0.9864 - val_loss: 0.1696 - val_accuracy: 0.9524\n",
      "Epoch 3/5\n",
      "58/58 [==============================] - 11s 183ms/step - loss: 0.0468 - accuracy: 0.9843 - val_loss: 0.1478 - val_accuracy: 0.9524\n",
      "Epoch 4/5\n",
      "58/58 [==============================] - 11s 182ms/step - loss: 0.0425 - accuracy: 0.9864 - val_loss: 0.1777 - val_accuracy: 0.9524\n",
      "Epoch 5/5\n",
      "58/58 [==============================] - 11s 183ms/step - loss: 0.0397 - accuracy: 0.9864 - val_loss: 0.1584 - val_accuracy: 0.9524\n"
     ]
    }
   ],
   "source": [
    "history = model.fit(train_generator,\n",
    "                               epochs=epochs,\n",
    "                               validation_data=valid_generator)"
   ]
  },
  {
   "cell_type": "code",
   "execution_count": 11,
   "metadata": {},
   "outputs": [
    {
     "name": "stdout",
     "output_type": "stream",
     "text": [
      "21/21 [==============================] - 0s 4ms/step - loss: 0.1584 - accuracy: 0.9524\n",
      "test loss, test acc: [0.1584461451685846, 0.95238096]\n"
     ]
    }
   ],
   "source": [
    "results = model.evaluate(valid_generator)\n",
    "print(\"test loss, test acc:\", results)"
   ]
  },
  {
   "cell_type": "code",
   "execution_count": 14,
   "metadata": {},
   "outputs": [
    {
     "data": {
      "image/png": "[encoded data removed]",
      "text/plain": [
       "<Figure size 504x432 with 2 Axes>"
      ]
     },
     "metadata": {
      "needs_background": "light"
     },
     "output_type": "display_data"
    }
   ],
   "source": [
    "from sklearn.metrics import confusion_matrix\n",
    "import numpy as np\n",
    "import seaborn as sns\n",
    "import matplotlib.pyplot as plt\n",
    "\n",
    "## plot confusion matrix\n",
    "y_preds = model.predict(valid_generator)\n",
    "y_preds = np.argmax(y_preds, axis=1)\n",
    "y_trues = valid_generator.classes\n",
    "cm = confusion_matrix(y_trues, y_preds)\n",
    "\n",
    "fig, ax = plt.subplots(figsize=(7, 6))\n",
    "\n",
    "sns.heatmap(cm, annot=True, fmt='d', cmap='Blues', cbar_kws={'shrink': .3}, linewidths=.1, ax=ax)\n",
    "\n",
    "ax.set(\n",
    "    xticklabels=list(valid_generator.class_indices.keys()),\n",
    "    yticklabels=list(valid_generator.class_indices.keys()),\n",
    "    title='confusion matrix',\n",
    "    ylabel='True label',\n",
    "    xlabel='Predicted label'\n",
    ")\n",
    "params = dict(rotation=45, ha='center', rotation_mode='anchor')\n",
    "plt.setp(ax.get_yticklabels(), **params)\n",
    "plt.setp(ax.get_xticklabels(), **params)\n",
    "plt.show()"
   ]
  },
  {
   "cell_type": "code",
   "execution_count": 15,
   "metadata": {},
   "outputs": [
    {
     "data": {
      "text/plain": [
       "0.9523809523809523"
      ]
     },
     "execution_count": 15,
     "metadata": {},
     "output_type": "execute_result"
    }
   ],
   "source": [
    "from sklearn.metrics import accuracy_score\n",
    "y_preds = model.predict(valid_generator)\n",
    "y_preds = np.argmax(y_preds, axis=1)\n",
    "y_trues = valid_generator.classes\n",
    "\n",
    "accuracy_score(y_preds, y_trues)"
   ]
  },
  {
   "cell_type": "code",
   "execution_count": null,
   "metadata": {},
   "outputs": [],
   "source": []
  }
 ],
 "metadata": {
  "accelerator": "GPU",
  "colab": {
   "collapsed_sections": [],
   "name": "ex2_CNN_data_augmentation.ipynb",
   "provenance": [
    {
     "file_id": "1bd-jwbe3Aa6UrLK-LzlCQahQvNxcNOab",
     "timestamp": 1553100300184
    }
   ],
   "version": "0.3.2"
  },
  "kernelspec": {
   "display_name": "Python 3",
   "language": "python",
   "name": "python3"
  },
  "language_info": {
   "codemirror_mode": {
    "name": "ipython",
    "version": 3
   },
   "file_extension": ".py",
   "mimetype": "text/x-python",
   "name": "python",
   "nbconvert_exporter": "python",
   "pygments_lexer": "ipython3",
   "version": "3.7.3"
  }
 },
 "nbformat": 4,
 "nbformat_minor": 4
}
