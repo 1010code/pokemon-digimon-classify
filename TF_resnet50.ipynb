{
 "cells": [
  {
   "cell_type": "markdown",
   "metadata": {
    "colab_type": "text",
    "id": "qjQnu80ijCa-"
   },
   "source": [
    "# CNN + Transfer learning"
   ]
  },
  {
   "cell_type": "code",
   "execution_count": 1,
   "metadata": {},
   "outputs": [
    {
     "name": "stdout",
     "output_type": "stream",
     "text": [
      "4 devices detect\n"
     ]
    }
   ],
   "source": [
    "import numpy as np\n",
    "import pandas as pd\n",
    "import os\n",
    "import matplotlib.pyplot as plt\n",
    "%matplotlib inline\n",
    "\n",
    "import tensorflow as tf\n",
    "physical_devices = tf.config.experimental.list_physical_devices('GPU')\n",
    "if len(physical_devices) > 0:\n",
    "    for i in range(len(physical_devices)):\n",
    "        tf.config.experimental.set_memory_growth(physical_devices[i], True)\n",
    "print(len(physical_devices), 'devices detect')"
   ]
  },
  {
   "cell_type": "code",
   "execution_count": 2,
   "metadata": {
    "colab": {
     "base_uri": "https://localhost:8080/",
     "height": 34
    },
    "colab_type": "code",
    "executionInfo": {
     "elapsed": 2507,
     "status": "ok",
     "timestamp": 1563005360776,
     "user": {
      "displayName": "kinna kinna",
      "photoUrl": "",
      "userId": "09336290170720198249"
     },
     "user_tz": -480
    },
    "id": "vjFmupouR8XP",
    "outputId": "144c892d-e51f-4bc0-fdaf-2048146749ff"
   },
   "outputs": [],
   "source": [
    "from tensorflow import keras\n",
    "from tensorflow.keras.preprocessing.image import ImageDataGenerator\n",
    "from tensorflow.keras.models import Model\n",
    "from tensorflow.keras.layers import (Dense, Dropout, Activation,\n",
    "                                     Flatten, GlobalAveragePooling2D)\n",
    "import tensorflow as tf"
   ]
  },
  {
   "cell_type": "markdown",
   "metadata": {
    "colab_type": "text",
    "id": "kxBu1rarjRU0"
   },
   "source": [
    "## Where AM I 資料讀入及前處理"
   ]
  },
  {
   "cell_type": "code",
   "execution_count": 11,
   "metadata": {},
   "outputs": [],
   "source": [
    "data_path = \"dataset/train\"\n",
    "\n",
    "x_data_list = []\n",
    "y_data_list = []\n",
    "for roots, dirs, files in os.walk(data_path):\n",
    "    for each in files:\n",
    "        if each.find('checkpoint') == -1:\n",
    "            x_data_list.append(os.path.join(roots.split(\"/\")[-1], each))\n",
    "            y_data_list.append(roots.split(\"/\")[-1])"
   ]
  },
  {
   "cell_type": "code",
   "execution_count": 12,
   "metadata": {},
   "outputs": [],
   "source": [
    "data_list = pd.DataFrame({})\n",
    "data_list['img_path'] = x_data_list\n",
    "data_list['label'] = y_data_list"
   ]
  },
  {
   "cell_type": "code",
   "execution_count": 13,
   "metadata": {},
   "outputs": [
    {
     "data": {
      "text/html": [
       "<div>\n",
       "<style scoped>\n",
       "    .dataframe tbody tr th:only-of-type {\n",
       "        vertical-align: middle;\n",
       "    }\n",
       "\n",
       "    .dataframe tbody tr th {\n",
       "        vertical-align: top;\n",
       "    }\n",
       "\n",
       "    .dataframe thead th {\n",
       "        text-align: right;\n",
       "    }\n",
       "</style>\n",
       "<table border=\"1\" class=\"dataframe\">\n",
       "  <thead>\n",
       "    <tr style=\"text-align: right;\">\n",
       "      <th></th>\n",
       "      <th>img_path</th>\n",
       "      <th>label</th>\n",
       "    </tr>\n",
       "  </thead>\n",
       "  <tbody>\n",
       "    <tr>\n",
       "      <th>0</th>\n",
       "      <td>mayor_quimby/pic_0064.jpg</td>\n",
       "      <td>mayor_quimby</td>\n",
       "    </tr>\n",
       "    <tr>\n",
       "      <th>1</th>\n",
       "      <td>mayor_quimby/pic_0003.jpg</td>\n",
       "      <td>mayor_quimby</td>\n",
       "    </tr>\n",
       "    <tr>\n",
       "      <th>2</th>\n",
       "      <td>mayor_quimby/pic_0177.jpg</td>\n",
       "      <td>mayor_quimby</td>\n",
       "    </tr>\n",
       "  </tbody>\n",
       "</table>\n",
       "</div>"
      ],
      "text/plain": [
       "                    img_path         label\n",
       "0  mayor_quimby/pic_0064.jpg  mayor_quimby\n",
       "1  mayor_quimby/pic_0003.jpg  mayor_quimby\n",
       "2  mayor_quimby/pic_0177.jpg  mayor_quimby"
      ]
     },
     "execution_count": 13,
     "metadata": {},
     "output_type": "execute_result"
    }
   ],
   "source": [
    "data_list.head(3)"
   ]
  },
  {
   "cell_type": "code",
   "execution_count": 17,
   "metadata": {},
   "outputs": [],
   "source": [
    "from sklearn.model_selection import train_test_split\n",
    "\n",
    "train_list, test_list = train_test_split(data_list,\n",
    "                                         test_size=0.1,\n",
    "                                         random_state=42,\n",
    "                                         stratify=data_list['label'].values)"
   ]
  },
  {
   "cell_type": "code",
   "execution_count": 18,
   "metadata": {},
   "outputs": [],
   "source": [
    "img_size = 224\n",
    "num_class = len(data_list['label'].unique())"
   ]
  },
  {
   "cell_type": "markdown",
   "metadata": {
    "colab_type": "text",
    "id": "l_mL6wfrC52J"
   },
   "source": [
    "## 讀入 Pre-trained Model"
   ]
  },
  {
   "cell_type": "code",
   "execution_count": 19,
   "metadata": {},
   "outputs": [],
   "source": [
    "from tensorflow.keras.applications.resnet import (ResNet50, preprocess_input)"
   ]
  },
  {
   "cell_type": "code",
   "execution_count": 20,
   "metadata": {
    "colab": {
     "base_uri": "https://localhost:8080/",
     "height": 620
    },
    "colab_type": "code",
    "executionInfo": {
     "elapsed": 5152,
     "status": "ok",
     "timestamp": 1563005580377,
     "user": {
      "displayName": "kinna kinna",
      "photoUrl": "",
      "userId": "09336290170720198249"
     },
     "user_tz": -480
    },
    "id": "Y3aJkkKcC52L",
    "outputId": "dfb1e4dc-8aea-404a-85e5-b6a59ea3f0bb"
   },
   "outputs": [
    {
     "name": "stdout",
     "output_type": "stream",
     "text": [
      "A local file was found, but it seems to be incomplete or outdated because the auto file hash does not match the original value of 4d473c1dd8becc155b73f8504c6f6626 so we will re-download the data.\n",
      "Downloading data from https://github.com/keras-team/keras-applications/releases/download/resnet/resnet50_weights_tf_dim_ordering_tf_kernels_notop.h5\n",
      "94773248/94765736 [==============================] - 5s 0us/step\n"
     ]
    }
   ],
   "source": [
    "pre_model = ResNet50(weights='imagenet', include_top=False,\n",
    "                     input_shape=(img_size, img_size, 3))\n",
    "\n",
    "x = GlobalAveragePooling2D()(pre_model.output)\n",
    "# x = Dense(128, activation='relu')(x)\n",
    "x = Dropout(0.25)(x)\n",
    "outputs = Dense(num_class, activation='softmax')(x)\n",
    "\n",
    "\n",
    "model = Model(inputs=pre_model.inputs, outputs=outputs)"
   ]
  },
  {
   "cell_type": "code",
   "execution_count": 11,
   "metadata": {},
   "outputs": [],
   "source": [
    "# model.summary()"
   ]
  },
  {
   "cell_type": "markdown",
   "metadata": {},
   "source": [
    "# 決定 Pre-Train 參數量"
   ]
  },
  {
   "cell_type": "code",
   "execution_count": 21,
   "metadata": {},
   "outputs": [],
   "source": [
    "pre_model.trainable = True\n",
    "\n",
    "# trainable_layer = 10\n",
    "# for layer in pre_model.layers[:-trainable_layer]:\n",
    "#     layer.trainable = False\n",
    "\n",
    "# for layer in model.layers:\n",
    "#     print(layer, layer.trainable)\n",
    "\n",
    "# model.summary()"
   ]
  },
  {
   "cell_type": "code",
   "execution_count": 22,
   "metadata": {
    "colab": {
     "base_uri": "https://localhost:8080/",
     "height": 71
    },
    "colab_type": "code",
    "executionInfo": {
     "elapsed": 641,
     "status": "ok",
     "timestamp": 1563005718020,
     "user": {
      "displayName": "kinna kinna",
      "photoUrl": "",
      "userId": "09336290170720198249"
     },
     "user_tz": -480
    },
    "id": "dtPtV8bwSMO7",
    "outputId": "714004b6-a2c2-4b7f-b0de-6f0b06728b03"
   },
   "outputs": [],
   "source": [
    "learning_rate = 1e-5\n",
    "optimizer = keras.optimizers.Adam(lr=learning_rate)\n",
    "\n",
    "model.compile(loss='categorical_crossentropy',\n",
    "              optimizer=optimizer,\n",
    "              metrics=['accuracy'])"
   ]
  },
  {
   "cell_type": "markdown",
   "metadata": {
    "colab_type": "text",
    "id": "Ldw-zoshjx38"
   },
   "source": [
    "# Data Augmentation"
   ]
  },
  {
   "cell_type": "code",
   "execution_count": 23,
   "metadata": {
    "cellView": "both",
    "colab": {},
    "colab_type": "code",
    "id": "lJVCV4ApSEmI"
   },
   "outputs": [],
   "source": [
    "batch_size = 32\n",
    "num_steps = len(train_list) // batch_size + 1\n",
    "num_epochs = 10"
   ]
  },
  {
   "cell_type": "code",
   "execution_count": 24,
   "metadata": {},
   "outputs": [],
   "source": [
    "train_datagen = ImageDataGenerator(\n",
    "                                   width_shift_range=0.1,\n",
    "                                   height_shift_range=0.1,\n",
    "                                   horizontal_flip=True,\n",
    "                                   preprocessing_function=preprocess_input\n",
    "                                  )\n",
    "test_datagen = ImageDataGenerator(preprocessing_function=preprocess_input)"
   ]
  },
  {
   "cell_type": "code",
   "execution_count": 25,
   "metadata": {},
   "outputs": [
    {
     "name": "stdout",
     "output_type": "stream",
     "text": [
      "Found 716 validated image filenames belonging to 6 classes.\n",
      "Found 80 validated image filenames belonging to 6 classes.\n"
     ]
    }
   ],
   "source": [
    "img_shape = (img_size, img_size)\n",
    "\n",
    "train_generator = train_datagen.flow_from_dataframe(\n",
    "                                                    dataframe=train_list,\n",
    "                                                    directory=data_path,\n",
    "                                                    x_col=\"img_path\",\n",
    "                                                    y_col=\"label\",\n",
    "                                                    target_size=img_shape,\n",
    "                                                    batch_size=batch_size,\n",
    "                                                    class_mode='categorical')\n",
    "\n",
    "valid_generator = test_datagen.flow_from_dataframe(\n",
    "                                                    dataframe=test_list,\n",
    "                                                    directory=data_path,\n",
    "                                                    x_col=\"img_path\",\n",
    "                                                    y_col=\"label\",\n",
    "                                                    target_size=img_shape,\n",
    "                                                    batch_size=batch_size,\n",
    "                                                    class_mode='categorical',\n",
    "                                                    shuffle=False)\n",
    "\n",
    "# 用在不知道 label 的資料讀取上\n",
    "# test_generator = test_datagen.flow_from_dataframe(\n",
    "#                                                     dataframe=test_list,\n",
    "#                                                     directory=data_path,\n",
    "#                                                     x_col=\"img_path\",\n",
    "#                                                     target_size=img_shape,\n",
    "#                                                     batch_size=batch_size,\n",
    "#                                                     class_mode=None,\n",
    "#                                                     shuffle=False)\n"
   ]
  },
  {
   "cell_type": "markdown",
   "metadata": {
    "colab_type": "text",
    "id": "w3ZbQfBhkKQ_"
   },
   "source": [
    "## 開始訓練模型"
   ]
  },
  {
   "cell_type": "code",
   "execution_count": 26,
   "metadata": {},
   "outputs": [],
   "source": [
    "model_dir = 'model-logs/resnet50'\n",
    "if not os.path.exists(model_dir):\n",
    "    os.makedirs(model_dir)\n",
    "\n",
    "logfiles = model_dir + '/{}-{}'.format('basic_model',\n",
    "                                       model.__class__.__name__)\n",
    "model_cbk = keras.callbacks.TensorBoard(log_dir=logfiles,\n",
    "                                        histogram_freq=1)\n",
    "\n",
    "modelfiles = model_dir + '/{}-best-model.h5'.format('basic_model')\n",
    "model_mckp = keras.callbacks.ModelCheckpoint(modelfiles,\n",
    "                                             monitor='val_accuracy',\n",
    "                                             save_best_only=True)\n",
    "\n",
    "earlystop = keras.callbacks.EarlyStopping(monitor='val_loss',\n",
    "                                          patience=5,\n",
    "                                          verbose=1)\n",
    "\n",
    "\n",
    "callbacks_list = [model_cbk, model_mckp, earlystop]"
   ]
  },
  {
   "cell_type": "code",
   "execution_count": 27,
   "metadata": {
    "colab": {
     "base_uri": "https://localhost:8080/",
     "height": 652
    },
    "colab_type": "code",
    "executionInfo": {
     "elapsed": 541352,
     "status": "ok",
     "timestamp": 1563006265676,
     "user": {
      "displayName": "kinna kinna",
      "photoUrl": "",
      "userId": "09336290170720198249"
     },
     "user_tz": -480
    },
    "id": "dQ8rNZ9Cd7Ba",
    "outputId": "d5a95f17-fb07-4b19-f8ef-55fdfea5c20f"
   },
   "outputs": [
    {
     "name": "stdout",
     "output_type": "stream",
     "text": [
      "Train for 23 steps, validate for 3 steps\n",
      "Epoch 1/10\n",
      " 1/23 [>.............................] - ETA: 8:28 - loss: 2.3846 - accuracy: 0.1250WARNING:tensorflow:Method (on_train_batch_end) is slow compared to the batch update (0.453383). Check your callbacks.\n",
      "23/23 [==============================] - 32s 1s/step - loss: 1.9680 - accuracy: 0.2486 - val_loss: 1.9459 - val_accuracy: 0.2500\n",
      "Epoch 2/10\n",
      "23/23 [==============================] - 21s 895ms/step - loss: 1.5007 - accuracy: 0.4204 - val_loss: 1.4084 - val_accuracy: 0.4500\n",
      "Epoch 3/10\n",
      "23/23 [==============================] - 21s 900ms/step - loss: 1.1373 - accuracy: 0.6006 - val_loss: 1.0562 - val_accuracy: 0.6000\n",
      "Epoch 4/10\n",
      "23/23 [==============================] - 21s 900ms/step - loss: 0.8393 - accuracy: 0.7416 - val_loss: 0.7761 - val_accuracy: 0.7375\n",
      "Epoch 5/10\n",
      "23/23 [==============================] - 21s 892ms/step - loss: 0.6305 - accuracy: 0.8436 - val_loss: 0.5805 - val_accuracy: 0.8375\n",
      "Epoch 6/10\n",
      "23/23 [==============================] - 21s 901ms/step - loss: 0.4977 - accuracy: 0.8841 - val_loss: 0.4563 - val_accuracy: 0.8750\n",
      "Epoch 7/10\n",
      "23/23 [==============================] - 20s 888ms/step - loss: 0.3751 - accuracy: 0.9274 - val_loss: 0.3848 - val_accuracy: 0.8875\n",
      "Epoch 8/10\n",
      "23/23 [==============================] - 21s 893ms/step - loss: 0.3127 - accuracy: 0.9344 - val_loss: 0.3328 - val_accuracy: 0.9000\n",
      "Epoch 9/10\n",
      "23/23 [==============================] - 18s 791ms/step - loss: 0.2374 - accuracy: 0.9651 - val_loss: 0.3070 - val_accuracy: 0.9000\n",
      "Epoch 10/10\n",
      "23/23 [==============================] - 21s 901ms/step - loss: 0.1910 - accuracy: 0.9721 - val_loss: 0.2881 - val_accuracy: 0.9125\n"
     ]
    }
   ],
   "source": [
    "history = model.fit(train_generator,\n",
    "                              steps_per_epoch=num_steps,\n",
    "                              epochs=num_epochs,\n",
    "                              validation_data=valid_generator,\n",
    "                              callbacks=callbacks_list)"
   ]
  },
  {
   "cell_type": "markdown",
   "metadata": {
    "colab_type": "text",
    "id": "nZBlMAU7kEwK"
   },
   "source": [
    "## 訓練結果視覺化"
   ]
  },
  {
   "cell_type": "code",
   "execution_count": 28,
   "metadata": {},
   "outputs": [
    {
     "name": "stdout",
     "output_type": "stream",
     "text": [
      "3/3 - 0s - loss: 0.2881 - accuracy: 0.9125\n"
     ]
    }
   ],
   "source": [
    "loss, acc = model.evaluate_generator(valid_generator, verbose=2)"
   ]
  },
  {
   "cell_type": "code",
   "execution_count": 29,
   "metadata": {},
   "outputs": [],
   "source": [
    "y_pred = model.predict_generator(valid_generator)\n",
    "y_pred = y_pred.argmax(-1)"
   ]
  },
  {
   "cell_type": "code",
   "execution_count": 30,
   "metadata": {},
   "outputs": [],
   "source": [
    "y_test = valid_generator.classes\n",
    "class_name = valid_generator.class_indices\n",
    "class_names = np.array([each for each in class_name.keys()])"
   ]
  },
  {
   "cell_type": "code",
   "execution_count": 31,
   "metadata": {},
   "outputs": [
    {
     "name": "stdout",
     "output_type": "stream",
     "text": [
      "0.9125\n",
      "[[ 7  0  0  2  0  1]\n",
      " [ 0 10  1  0  0  0]\n",
      " [ 0  0 12  0  0  0]\n",
      " [ 1  0  0 21  0  0]\n",
      " [ 0  0  0  0  9  0]\n",
      " [ 0  0  0  2  0 14]]\n"
     ]
    }
   ],
   "source": [
    "from sklearn.metrics import accuracy_score, confusion_matrix\n",
    "\n",
    "print(accuracy_score(y_test, y_pred))\n",
    "print(confusion_matrix(y_test, y_pred))"
   ]
  },
  {
   "cell_type": "code",
   "execution_count": 34,
   "metadata": {},
   "outputs": [
    {
     "data": {
      "text/plain": [
       "Text(0.5, 1, 'Confusion Matrix')"
      ]
     },
     "execution_count": 34,
     "metadata": {},
     "output_type": "execute_result"
    },
    {
     "data": {
      "image/png": "[encoded data removed]",
      "text/plain": [
       "<Figure size 360x360 with 1 Axes>"
      ]
     },
     "metadata": {
      "needs_background": "light"
     },
     "output_type": "display_data"
    }
   ],
   "source": [
    "import seaborn as sns\n",
    "\n",
    "matrix = confusion_matrix(y_test, y_pred)\n",
    "\n",
    "plt.figure(figsize=(5, 5))\n",
    "sns.heatmap(matrix, annot=True, cbar=False, cmap=\"Blues\",\n",
    "            xticklabels=class_names,\n",
    "            yticklabels=class_names)\n",
    "plt.ylabel('True Label')\n",
    "plt.xlabel('Predicted Label')\n",
    "plt.title('Confusion Matrix')"
   ]
  },
  {
   "cell_type": "code",
   "execution_count": 35,
   "metadata": {
    "colab": {},
    "colab_type": "code",
    "id": "XtUqvUzVSU82"
   },
   "outputs": [
    {
     "data": {
      "image/png": "[encoded data removed]",
      "text/plain": [
       "<Figure size 864x360 with 2 Axes>"
      ]
     },
     "metadata": {
      "needs_background": "light"
     },
     "output_type": "display_data"
    }
   ],
   "source": [
    "train_history = ['loss', 'val_loss', 'accuracy', 'val_accuracy']\n",
    "name_history = ['training_loss', 'val_loss', 'training_acc', 'val_acc']\n",
    "\n",
    "plt.figure(figsize=(12, 5))\n",
    "for eachx, eachy, i in zip(train_history, name_history, range(4)):\n",
    "    if i % 2 == 0:\n",
    "        plt.subplot(1, 2, i//2+1)\n",
    "    l_x = len(history.history[eachx])\n",
    "    plt.plot(np.arange(l_x), history.history[eachx], label=eachy)\n",
    "    plt.legend(loc='best')\n",
    "    plt.title('model'+eachy)\n",
    "plt.show()"
   ]
  },
  {
   "cell_type": "code",
   "execution_count": null,
   "metadata": {
    "colab": {},
    "colab_type": "code",
    "id": "wk6elT6ogjA3"
   },
   "outputs": [],
   "source": []
  }
 ],
 "metadata": {
  "accelerator": "GPU",
  "colab": {
   "collapsed_sections": [],
   "name": "ex3_CNN_transfer_learning.ipynb",
   "provenance": [
    {
     "file_id": "12H2XwTQeBcLbOYWHLw4J_3AObwxIp_nT",
     "timestamp": 1553101208325
    }
   ],
   "version": "0.3.2"
  },
  "kernelspec": {
   "display_name": "Python 3",
   "language": "python",
   "name": "python3"
  },
  "language_info": {
   "codemirror_mode": {
    "name": "ipython",
    "version": 3
   },
   "file_extension": ".py",
   "mimetype": "text/x-python",
   "name": "python",
   "nbconvert_exporter": "python",
   "pygments_lexer": "ipython3",
   "version": "3.7.3"
  }
 },
 "nbformat": 4,
 "nbformat_minor": 4
}
